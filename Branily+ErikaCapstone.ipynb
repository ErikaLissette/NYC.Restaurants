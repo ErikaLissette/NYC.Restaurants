{
  "nbformat": 4,
  "nbformat_minor": 0,
  "metadata": {
    "colab": {
      "name": "Branily+ErikaCapstone",
      "provenance": [],
      "collapsed_sections": [],
      "include_colab_link": true
    },
    "kernelspec": {
      "name": "python3",
      "display_name": "Python 3"
    }
  },
  "cells": [
    {
      "cell_type": "markdown",
      "metadata": {
        "id": "view-in-github",
        "colab_type": "text"
      },
      "source": [
        "<a href=\"https://colab.research.google.com/github/ErikaLissette/NYC.Restaurants/blob/master/Branily%2BErikaCapstone.ipynb\" target=\"_parent\"><img src=\"https://colab.research.google.com/assets/colab-badge.svg\" alt=\"Open In Colab\"/></a>"
      ]
    },
    {
      "cell_type": "code",
      "metadata": {
        "id": "2Wi10M_UJj-I",
        "colab_type": "code",
        "colab": {
          "base_uri": "https://localhost:8080/",
          "height": 510
        },
        "outputId": "922547e9-458d-41ae-bead-33e68fde073b"
      },
      "source": [
        "#Bronx Top Ten Violation Codes \n",
        "%matplotlib inline\n",
        "import matplotlib.pyplot as plt\n",
        "import pandas as pd\n",
        "import numpy as np\n",
        "import seaborn as sns\n",
        "import pandas as pd\n",
        "import numpy as np\n",
        "df = pd.read_csv('https://www.dropbox.com/s/w3zp2pl8rlx12xe/DOHMH_New_York_City_Restaurant_Inspection_Results%20%283%29.csv?dl=1')\n",
        "BXV=df.loc[df['BORO'] == 'Bronx', 'VIOLATION CODE'].value_counts().sort_values(ascending=False).head(10)\n",
        "print(BXV)\n",
        "\n",
        "BXV.plot(kind=\"bar\", x=\"BORO\", y='VIOLATION CODE')\n",
        "plt.show\n",
        "plt.title('BRONX TOP 10 VIOLATIONS')\n",
        "plt.ylabel('Total Count of Violations')\n",
        "plt.xlabel(\"Type of Violations Codes\")"
      ],
      "execution_count": null,
      "outputs": [
        {
          "output_type": "stream",
          "text": [
            "10F    5133\n",
            "08A    4638\n",
            "04L    3064\n",
            "02B    2276\n",
            "10B    2150\n",
            "04N    2105\n",
            "06D    1963\n",
            "06C    1917\n",
            "02G    1854\n",
            "04M    1036\n",
            "Name: VIOLATION CODE, dtype: int64\n"
          ],
          "name": "stdout"
        },
        {
          "output_type": "execute_result",
          "data": {
            "text/plain": [
              "Text(0.5, 0, 'Type of Violations Codes')"
            ]
          },
          "metadata": {
            "tags": []
          },
          "execution_count": 6
        },
        {
          "output_type": "display_data",
          "data": {
            "image/png": "[encoded data removed]",
            "text/plain": [
              "<Figure size 432x288 with 1 Axes>"
            ]
          },
          "metadata": {
            "tags": [],
            "needs_background": "light"
          }
        }
      ]
    },
    {
      "cell_type": "code",
      "metadata": {
        "id": "mEbJCmUG0sRy",
        "colab_type": "code",
        "colab": {}
      },
      "source": [
        ""
      ],
      "execution_count": null,
      "outputs": []
    },
    {
      "cell_type": "code",
      "metadata": {
        "id": "Hfi93qmArxfX",
        "colab_type": "code",
        "colab": {}
      },
      "source": [
        "\n",
        "\n"
      ],
      "execution_count": null,
      "outputs": []
    },
    {
      "cell_type": "code",
      "metadata": {
        "id": "JHu28ZA0bEZc",
        "colab_type": "code",
        "colab": {
          "base_uri": "https://localhost:8080/",
          "height": 544
        },
        "outputId": "09a917c8-d24f-494d-b252-52547c510c2a"
      },
      "source": [
        "#Brooklyn Top Ten Violation Codes \n",
        "%matplotlib inline\n",
        "import matplotlib.pyplot as plt\n",
        "import pandas as pd\n",
        "import numpy as np\n",
        "import seaborn as sns\n",
        "import pandas as pd\n",
        "import numpy as np\n",
        "df = pd.read_csv('https://www.dropbox.com/s/w3zp2pl8rlx12xe/DOHMH_New_York_City_Restaurant_Inspection_Results%20%283%29.csv?dl=1')\n",
        "BK=df.loc[df['BORO'] == 'Brooklyn', 'VIOLATION CODE'].value_counts().sort_values(ascending=False).head(10)\n",
        "print(BK)\n",
        "\n",
        "BK.plot(kind=\"bar\", x=\"BORO\", y='VIOLATION CODE')\n",
        "plt.show\n",
        "plt.title('BROOKLYN TOP 10 VIOLATIONS')\n",
        "plt.ylabel('Total Count of Violations')\n",
        "plt.xlabel(\"Type of Violations Codes\")\n"
      ],
      "execution_count": null,
      "outputs": [
        {
          "output_type": "stream",
          "text": [
            "/usr/local/lib/python3.6/dist-packages/statsmodels/tools/_testing.py:19: FutureWarning: pandas.util.testing is deprecated. Use the functions in the public API at pandas.testing instead.\n",
            "  import pandas.util.testing as tm\n"
          ],
          "name": "stderr"
        },
        {
          "output_type": "stream",
          "text": [
            "10F    14653\n",
            "08A    11448\n",
            "04L     8101\n",
            "06D     6448\n",
            "06C     6083\n",
            "10B     5578\n",
            "02G     5576\n",
            "02B     5223\n",
            "04N     4927\n",
            "04M     2296\n",
            "Name: VIOLATION CODE, dtype: int64\n"
          ],
          "name": "stdout"
        },
        {
          "output_type": "execute_result",
          "data": {
            "text/plain": [
              "Text(0.5, 0, 'Type of Violations Codes')"
            ]
          },
          "metadata": {
            "tags": []
          },
          "execution_count": 3
        },
        {
          "output_type": "display_data",
          "data": {
            "image/png": "[encoded data removed]",
            "text/plain": [
              "<Figure size 432x288 with 1 Axes>"
            ]
          },
          "metadata": {
            "tags": [],
            "needs_background": "light"
          }
        }
      ]
    },
    {
      "cell_type": "code",
      "metadata": {
        "id": "udUZmXDPXXd3",
        "colab_type": "code",
        "colab": {
          "base_uri": "https://localhost:8080/",
          "height": 510
        },
        "outputId": "4a97934b-bcf5-4c6a-c16a-f76f65824b8e"
      },
      "source": [
        "#Manhattan top ten Violation Codes. \n",
        "%matplotlib inline\n",
        "import matplotlib.pyplot as plt\n",
        "import pandas as pd\n",
        "import numpy as np\n",
        "import seaborn as sns\n",
        "import pandas as pd\n",
        "import numpy as np\n",
        "df = pd.read_csv('https://www.dropbox.com/s/w3zp2pl8rlx12xe/DOHMH_New_York_City_Restaurant_Inspection_Results%20%283%29.csv?dl=1')\n",
        "\n",
        "MV=df.loc[df['BORO'] == 'Manhattan', 'VIOLATION CODE'].value_counts().sort_values(ascending=False).head(10)\n",
        "print(MV)\n",
        "\n",
        "MV.plot(kind=\"bar\", x=\"BORO\", y='VIOLATION CODE')\n",
        "plt.show\n",
        "plt.title(\"MANHATTAN'S TOP 10 VIOLATIONS\")\n",
        "plt.ylabel('Total Count of Violations')\n",
        "plt.xlabel(\"Type of Violations Codes\")"
      ],
      "execution_count": null,
      "outputs": [
        {
          "output_type": "stream",
          "text": [
            "10F    22397\n",
            "08A    17267\n",
            "06D    11878\n",
            "04L    10966\n",
            "10B     9881\n",
            "06C     9669\n",
            "02G     9661\n",
            "04N     8932\n",
            "02B     7351\n",
            "04H     3659\n",
            "Name: VIOLATION CODE, dtype: int64\n"
          ],
          "name": "stdout"
        },
        {
          "output_type": "execute_result",
          "data": {
            "text/plain": [
              "Text(0.5, 0, 'Type of Violations Codes')"
            ]
          },
          "metadata": {
            "tags": []
          },
          "execution_count": 5
        },
        {
          "output_type": "display_data",
          "data": {
            "image/png": "[encoded data removed]",
            "text/plain": [
              "<Figure size 432x288 with 1 Axes>"
            ]
          },
          "metadata": {
            "tags": [],
            "needs_background": "light"
          }
        }
      ]
    },
    {
      "cell_type": "code",
      "metadata": {
        "id": "fDQurg2zt1sd",
        "colab_type": "code",
        "colab": {
          "base_uri": "https://localhost:8080/",
          "height": 510
        },
        "outputId": "a1de432e-baa8-49ef-862a-17be2f35b9ec"
      },
      "source": [
        "#Queens top ten Violation Codes. \n",
        "%matplotlib inline\n",
        "import matplotlib.pyplot as plt\n",
        "import pandas as pd\n",
        "import numpy as np\n",
        "import seaborn as sns\n",
        "import pandas as pd\n",
        "import numpy as np\n",
        "df = pd.read_csv('https://www.dropbox.com/s/ta1ss5vg690v5m9/DOHMH_New_York_City_Restaurant_Inspection_Results.csv?dl=1')\n",
        "df.GRADE.fillna('No Grade', inplace=True)\n",
        "df[\"GRADE DATE\"].fillna('No Grade Date', inplace=True)\n",
        "df[\"VIOLATION CODE\" ].fillna('NO VIOLATION CODE' , inplace=True)\n",
        "df[\"VIOLATION DESCRIPTION\"].fillna('NO VIOLATION DESCRIPTION', inplace=True)\n",
        "df[\"INSPECTION TYPE\"].fillna('NO INSPECTION TYPE' , inplace=True)\n",
        "df[\"SCORE\"].fillna('NO SCORE' , inplace=True)\n",
        "df[\"BORO\"].fillna('NO BORO' , inplace=True)\n",
        "QV= df.loc[df['BORO'] == 'Queens', 'VIOLATION CODE'].value_counts().sort_values(ascending=False).head(10)\n",
        "print(QV)\n",
        "\n",
        "QV.plot(kind=\"bar\", x=\"BORO\", y='VIOLATION CODE')\n",
        "plt.show\n",
        "plt.title('QUEENS TOP 10 VIOLATIONS')\n",
        "plt.ylabel('Total Count of Violations')\n",
        "plt.xlabel(\"Type of Violations Codes\")"
      ],
      "execution_count": null,
      "outputs": [
        {
          "output_type": "stream",
          "text": [
            "10F    12995\n",
            "08A     9681\n",
            "04L     6800\n",
            "06D     5913\n",
            "06C     5736\n",
            "02G     4971\n",
            "10B     4897\n",
            "02B     4824\n",
            "04N     4335\n",
            "04M     2168\n",
            "Name: VIOLATION CODE, dtype: int64\n"
          ],
          "name": "stdout"
        },
        {
          "output_type": "execute_result",
          "data": {
            "text/plain": [
              "Text(0.5, 0, 'Type of Violations Codes')"
            ]
          },
          "metadata": {
            "tags": []
          },
          "execution_count": 2
        },
        {
          "output_type": "display_data",
          "data": {
            "image/png": "[encoded data removed]",
            "text/plain": [
              "<Figure size 432x288 with 1 Axes>"
            ]
          },
          "metadata": {
            "tags": [],
            "needs_background": "light"
          }
        }
      ]
    },
    {
      "cell_type": "code",
      "metadata": {
        "id": "1lF2j8h5sYLO",
        "colab_type": "code",
        "colab": {
          "base_uri": "https://localhost:8080/",
          "height": 266
        },
        "outputId": "cd4fb09c-8073-4a6f-9034-0664583e11af"
      },
      "source": [
        "import pandas as pd\n",
        "import numpy as np\n",
        "df = pd.read_csv('https://www.dropbox.com/s/w3zp2pl8rlx12xe/DOHMH_New_York_City_Restaurant_Inspection_Results%20%283%29.csv?dl=1')\n",
        "df.groupby('BORO').mean()[['GRADE']]"
      ],
      "execution_count": null,
      "outputs": [
        {
          "output_type": "execute_result",
          "data": {
            "text/html": [
              "<div>\n",
              "<style scoped>\n",
              "    .dataframe tbody tr th:only-of-type {\n",
              "        vertical-align: middle;\n",
              "    }\n",
              "\n",
              "    .dataframe tbody tr th {\n",
              "        vertical-align: top;\n",
              "    }\n",
              "\n",
              "    .dataframe thead th {\n",
              "        text-align: right;\n",
              "    }\n",
              "</style>\n",
              "<table border=\"1\" class=\"dataframe\">\n",
              "  <thead>\n",
              "    <tr style=\"text-align: right;\">\n",
              "      <th></th>\n",
              "      <th>SCORE</th>\n",
              "    </tr>\n",
              "    <tr>\n",
              "      <th>BORO</th>\n",
              "      <th></th>\n",
              "    </tr>\n",
              "  </thead>\n",
              "  <tbody>\n",
              "    <tr>\n",
              "      <th>0</th>\n",
              "      <td>21.871681</td>\n",
              "    </tr>\n",
              "    <tr>\n",
              "      <th>Bronx</th>\n",
              "      <td>19.916920</td>\n",
              "    </tr>\n",
              "    <tr>\n",
              "      <th>Brooklyn</th>\n",
              "      <td>20.494563</td>\n",
              "    </tr>\n",
              "    <tr>\n",
              "      <th>Manhattan</th>\n",
              "      <td>20.365197</td>\n",
              "    </tr>\n",
              "    <tr>\n",
              "      <th>Queens</th>\n",
              "      <td>20.172182</td>\n",
              "    </tr>\n",
              "    <tr>\n",
              "      <th>Staten Island</th>\n",
              "      <td>19.244919</td>\n",
              "    </tr>\n",
              "  </tbody>\n",
              "</table>\n",
              "</div>"
            ],
            "text/plain": [
              "                   SCORE\n",
              "BORO                    \n",
              "0              21.871681\n",
              "Bronx          19.916920\n",
              "Brooklyn       20.494563\n",
              "Manhattan      20.365197\n",
              "Queens         20.172182\n",
              "Staten Island  19.244919"
            ]
          },
          "metadata": {
            "tags": []
          },
          "execution_count": 37
        }
      ]
    }
  ]
}